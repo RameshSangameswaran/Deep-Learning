{
 "cells": [
  {
   "cell_type": "code",
   "execution_count": 1,
   "id": "intensive-movement",
   "metadata": {},
   "outputs": [],
   "source": [
    "import torch\n",
    "from torch import nn\n",
    "\n",
    "import math\n",
    "import matplotlib.pyplot as plt"
   ]
  },
  {
   "cell_type": "code",
   "execution_count": null,
   "id": "resistant-schema",
   "metadata": {},
   "outputs": [],
   "source": [
    "#set up a random generator seed"
   ]
  },
  {
   "cell_type": "code",
   "execution_count": 2,
   "id": "harmful-postage",
   "metadata": {},
   "outputs": [
    {
     "data": {
      "text/plain": [
       "<torch._C.Generator at 0x7f0b31c77370>"
      ]
     },
     "execution_count": 2,
     "metadata": {},
     "output_type": "execute_result"
    }
   ],
   "source": [
    "torch.manual_seed(111)"
   ]
  },
  {
   "cell_type": "code",
   "execution_count": null,
   "id": "binary-clock",
   "metadata": {},
   "outputs": [],
   "source": [
    "#Preparing the Training Data"
   ]
  },
  {
   "cell_type": "code",
   "execution_count": 3,
   "id": "increasing-november",
   "metadata": {},
   "outputs": [],
   "source": [
    "train_data_length = 1024\n",
    "train_data = torch.zeros((train_data_length, 2))\n",
    "train_data[:, 0] = 2 * math.pi * torch.rand(train_data_length)\n",
    "train_data[:, 1] = torch.sin(train_data[:, 0])\n",
    "train_labels = torch.zeros(train_data_length)\n",
    "train_set = [\n",
    "    (train_data[i], train_labels[i]) for i in range(train_data_length)\n",
    "]"
   ]
  },
  {
   "cell_type": "code",
   "execution_count": 4,
   "id": "minus-orlando",
   "metadata": {},
   "outputs": [
    {
     "data": {
      "text/plain": [
       "[<matplotlib.lines.Line2D at 0x7f0b2b9f7760>]"
      ]
     },
     "execution_count": 4,
     "metadata": {},
     "output_type": "execute_result"
    },
    {
     "data": {
      "image/png": "[encoded data removed]",
      "text/plain": [
       "<Figure size 432x288 with 1 Axes>"
      ]
     },
     "metadata": {
      "needs_background": "light"
     },
     "output_type": "display_data"
    }
   ],
   "source": [
    "plt.plot(train_data[:, 0], train_data[:, 1], \".\")"
   ]
  },
  {
   "cell_type": "code",
   "execution_count": null,
   "id": "equal-acrylic",
   "metadata": {},
   "outputs": [],
   "source": [
    "#With train_set create a PyTorch data loader:"
   ]
  },
  {
   "cell_type": "code",
   "execution_count": 5,
   "id": "deadly-bikini",
   "metadata": {},
   "outputs": [],
   "source": [
    "batch_size = 32\n",
    "train_loader = torch.utils.data.DataLoader(\n",
    "    train_set, batch_size=batch_size, shuffle=True\n",
    ")"
   ]
  },
  {
   "cell_type": "code",
   "execution_count": 6,
   "id": "other-experiment",
   "metadata": {},
   "outputs": [],
   "source": [
    "#Implementing the Discriminator"
   ]
  },
  {
   "cell_type": "code",
   "execution_count": 7,
   "id": "located-prairie",
   "metadata": {},
   "outputs": [],
   "source": [
    "class Discriminator(nn.Module):\n",
    "    def __init__(self):\n",
    "        super().__init__()\n",
    "        self.model = nn.Sequential(\n",
    "            nn.Linear(2, 256),\n",
    "            nn.ReLU(),\n",
    "            nn.Dropout(0.3),\n",
    "            nn.Linear(256, 128),\n",
    "            nn.ReLU(),\n",
    "            nn.Dropout(0.3),\n",
    "            nn.Linear(128, 64),\n",
    "            nn.ReLU(),\n",
    "            nn.Dropout(0.3),\n",
    "            nn.Linear(64, 1),\n",
    "            nn.Sigmoid(),\n",
    "        )\n",
    "\n",
    "    def forward(self, x):\n",
    "        output = self.model(x)\n",
    "        return output"
   ]
  },
  {
   "cell_type": "code",
   "execution_count": 8,
   "id": "outstanding-assets",
   "metadata": {},
   "outputs": [],
   "source": [
    "#Lines 5 and 6: The input is two-dimensional, and the first hidden layer is composed of 256 neurons with ReLU activation.\n",
    "#Lines 8, 9, 11, and 12: The second and third hidden layers are composed of 128 and 64 neurons, respectively, with ReLU activation.\n",
    "#Lines 14 and 15: The output is composed of a single neuron with sigmoidal activation to represent a probability.\n",
    "#Lines 7, 10, and 13: After the first, second, and third hidden layers, you use dropout to avoid overfitting."
   ]
  },
  {
   "cell_type": "code",
   "execution_count": 9,
   "id": "cutting-occurrence",
   "metadata": {},
   "outputs": [],
   "source": [
    "# instantiate a Discriminator object"
   ]
  },
  {
   "cell_type": "code",
   "execution_count": 10,
   "id": "amino-laser",
   "metadata": {},
   "outputs": [],
   "source": [
    "discriminator = Discriminator()"
   ]
  },
  {
   "cell_type": "code",
   "execution_count": 11,
   "id": "reflected-ethnic",
   "metadata": {},
   "outputs": [],
   "source": [
    "#Implementing the Generator"
   ]
  },
  {
   "cell_type": "code",
   "execution_count": 12,
   "id": "fatty-roman",
   "metadata": {},
   "outputs": [],
   "source": [
    "class Generator(nn.Module):\n",
    "    def __init__(self):\n",
    "        super().__init__()\n",
    "        self.model = nn.Sequential(\n",
    "            nn.Linear(2, 16),\n",
    "            nn.ReLU(),\n",
    "            nn.Linear(16, 32),\n",
    "            nn.ReLU(),\n",
    "            nn.Linear(32, 2),\n",
    "        )\n",
    "\n",
    "    def forward(self, x):\n",
    "        output = self.model(x)\n",
    "        return output\n",
    "\n",
    "generator = Generator()"
   ]
  },
  {
   "cell_type": "code",
   "execution_count": 13,
   "id": "inside-memorial",
   "metadata": {},
   "outputs": [],
   "source": [
    "#generator represents the generator neural network. It’s composed of two hidden layers with 16 and 32 neurons,\n",
    "#both with ReLU activation, and a linear activation layer with 2 neurons in the output. This way, the output will\n",
    "#consist of a vector with two elements that can be any value ranging from negative infinity to infinity, \n",
    "#which will represent (x̃₁, x̃₂)."
   ]
  },
  {
   "cell_type": "code",
   "execution_count": 14,
   "id": "perceived-thickness",
   "metadata": {},
   "outputs": [],
   "source": [
    "#Training the Models"
   ]
  },
  {
   "cell_type": "code",
   "execution_count": 15,
   "id": "asian-movement",
   "metadata": {},
   "outputs": [],
   "source": [
    "lr = 0.001\n",
    "num_epochs = 300\n",
    "loss_function = nn.BCELoss()"
   ]
  },
  {
   "cell_type": "code",
   "execution_count": 16,
   "id": "needed-french",
   "metadata": {},
   "outputs": [],
   "source": [
    "#Line 1 sets the learning rate (lr), which you’ll use to adapt the network weights.\n",
    "#Line 2 sets the number of epochs (num_epochs), which defines how many repetitions of training using the \n",
    "#whole training set will be performed.\n",
    "#Line 3 assigns the variable loss_function to the binary cross-entropy function BCELoss(), which is the\n",
    "#loss function that you’ll use to train the models."
   ]
  },
  {
   "cell_type": "code",
   "execution_count": 17,
   "id": "armed-liverpool",
   "metadata": {},
   "outputs": [],
   "source": [
    "optimizer_discriminator = torch.optim.Adam(discriminator.parameters(), lr=lr)\n",
    "optimizer_generator = torch.optim.Adam(generator.parameters(), lr=lr)"
   ]
  },
  {
   "cell_type": "code",
   "execution_count": 18,
   "id": "super-western",
   "metadata": {},
   "outputs": [],
   "source": [
    "#Finally, you need to implement a training loop in which training samples are fed to the models, and their\n",
    "#weights are updated to minimize the loss function"
   ]
  },
  {
   "cell_type": "code",
   "execution_count": 19,
   "id": "broke-match",
   "metadata": {},
   "outputs": [
    {
     "name": "stdout",
     "output_type": "stream",
     "text": [
      "Epoch: 0 Loss D.: 0.156594917178154\n",
      "Epoch: 0 Loss G.: 2.1254444122314453\n",
      "Epoch: 10 Loss D.: 0.7301512360572815\n",
      "Epoch: 10 Loss G.: 0.8579632639884949\n",
      "Epoch: 20 Loss D.: 0.5762090682983398\n",
      "Epoch: 20 Loss G.: 1.2365405559539795\n",
      "Epoch: 30 Loss D.: 0.6267536282539368\n",
      "Epoch: 30 Loss G.: 0.5887112617492676\n",
      "Epoch: 40 Loss D.: 0.5856595635414124\n",
      "Epoch: 40 Loss G.: 0.9323991537094116\n",
      "Epoch: 50 Loss D.: 0.7474967837333679\n",
      "Epoch: 50 Loss G.: 1.0210859775543213\n",
      "Epoch: 60 Loss D.: 0.5710500478744507\n",
      "Epoch: 60 Loss G.: 0.8184374570846558\n",
      "Epoch: 70 Loss D.: 0.5946915745735168\n",
      "Epoch: 70 Loss G.: 0.9301421642303467\n",
      "Epoch: 80 Loss D.: 0.6623274087905884\n",
      "Epoch: 80 Loss G.: 0.749141275882721\n",
      "Epoch: 90 Loss D.: 0.6536697745323181\n",
      "Epoch: 90 Loss G.: 0.8934930562973022\n",
      "Epoch: 100 Loss D.: 0.6514053344726562\n",
      "Epoch: 100 Loss G.: 0.8166499137878418\n",
      "Epoch: 110 Loss D.: 0.609113335609436\n",
      "Epoch: 110 Loss G.: 0.8163542151451111\n",
      "Epoch: 120 Loss D.: 0.6389061808586121\n",
      "Epoch: 120 Loss G.: 0.7250430583953857\n",
      "Epoch: 130 Loss D.: 0.5604939460754395\n",
      "Epoch: 130 Loss G.: 1.1131728887557983\n",
      "Epoch: 140 Loss D.: 0.690940260887146\n",
      "Epoch: 140 Loss G.: 0.7335748672485352\n",
      "Epoch: 150 Loss D.: 0.6595503091812134\n",
      "Epoch: 150 Loss G.: 0.7664231657981873\n",
      "Epoch: 160 Loss D.: 0.6839097738265991\n",
      "Epoch: 160 Loss G.: 0.8493739366531372\n",
      "Epoch: 170 Loss D.: 0.6027569770812988\n",
      "Epoch: 170 Loss G.: 1.0903791189193726\n",
      "Epoch: 180 Loss D.: 0.6965050101280212\n",
      "Epoch: 180 Loss G.: 0.6467378735542297\n",
      "Epoch: 190 Loss D.: 0.6703600287437439\n",
      "Epoch: 190 Loss G.: 0.7868881225585938\n",
      "Epoch: 200 Loss D.: 0.6928091049194336\n",
      "Epoch: 200 Loss G.: 0.7058718800544739\n",
      "Epoch: 210 Loss D.: 0.7264655232429504\n",
      "Epoch: 210 Loss G.: 0.6531194448471069\n",
      "Epoch: 220 Loss D.: 0.6166311502456665\n",
      "Epoch: 220 Loss G.: 0.8463060855865479\n",
      "Epoch: 230 Loss D.: 0.6905956268310547\n",
      "Epoch: 230 Loss G.: 0.6993826031684875\n",
      "Epoch: 240 Loss D.: 0.6731908321380615\n",
      "Epoch: 240 Loss G.: 0.7168383598327637\n",
      "Epoch: 250 Loss D.: 0.7908872961997986\n",
      "Epoch: 250 Loss G.: 0.7360329627990723\n",
      "Epoch: 260 Loss D.: 0.692720353603363\n",
      "Epoch: 260 Loss G.: 0.7302366495132446\n",
      "Epoch: 270 Loss D.: 0.6931134462356567\n",
      "Epoch: 270 Loss G.: 0.7460673451423645\n",
      "Epoch: 280 Loss D.: 0.6704140901565552\n",
      "Epoch: 280 Loss G.: 0.6846339702606201\n",
      "Epoch: 290 Loss D.: 0.5691933035850525\n",
      "Epoch: 290 Loss G.: 0.9260830283164978\n"
     ]
    }
   ],
   "source": [
    "for epoch in range(num_epochs):\n",
    "    for n, (real_samples, _) in enumerate(train_loader):\n",
    "        # Data for training the discriminator\n",
    "        real_samples_labels = torch.ones((batch_size, 1))\n",
    "        latent_space_samples = torch.randn((batch_size, 2))\n",
    "        generated_samples = generator(latent_space_samples)\n",
    "        generated_samples_labels = torch.zeros((batch_size, 1))\n",
    "        all_samples = torch.cat((real_samples, generated_samples))\n",
    "        all_samples_labels = torch.cat(\n",
    "            (real_samples_labels, generated_samples_labels)\n",
    "        )\n",
    "\n",
    "        # Training the discriminator\n",
    "        discriminator.zero_grad()\n",
    "        output_discriminator = discriminator(all_samples)\n",
    "        loss_discriminator = loss_function(\n",
    "            output_discriminator, all_samples_labels)\n",
    "        loss_discriminator.backward()\n",
    "        optimizer_discriminator.step()\n",
    "\n",
    "        # Data for training the generator\n",
    "        latent_space_samples = torch.randn((batch_size, 2))\n",
    "\n",
    "        # Training the generator\n",
    "        generator.zero_grad()\n",
    "        generated_samples = generator(latent_space_samples)\n",
    "        output_discriminator_generated = discriminator(generated_samples)\n",
    "        loss_generator = loss_function(\n",
    "            output_discriminator_generated, real_samples_labels\n",
    "        )\n",
    "        loss_generator.backward()\n",
    "        optimizer_generator.step()\n",
    "\n",
    "        # Show loss\n",
    "        if epoch % 10 == 0 and n == batch_size - 1:\n",
    "            print(f\"Epoch: {epoch} Loss D.: {loss_discriminator}\")\n",
    "            print(f\"Epoch: {epoch} Loss G.: {loss_generator}\")"
   ]
  },
  {
   "cell_type": "code",
   "execution_count": 20,
   "id": "specialized-performance",
   "metadata": {},
   "outputs": [],
   "source": [
    "#Checking the Samples Generated by the GAN"
   ]
  },
  {
   "cell_type": "code",
   "execution_count": 21,
   "id": "british-pepper",
   "metadata": {},
   "outputs": [],
   "source": [
    "latent_space_samples = torch.randn(100, 2)\n",
    "generated_samples = generator(latent_space_samples)"
   ]
  },
  {
   "cell_type": "code",
   "execution_count": 22,
   "id": "binding-instrumentation",
   "metadata": {},
   "outputs": [
    {
     "data": {
      "text/plain": [
       "[<matplotlib.lines.Line2D at 0x7f0b2804c130>]"
      ]
     },
     "execution_count": 22,
     "metadata": {},
     "output_type": "execute_result"
    },
    {
     "data": {
      "image/png": "[encoded data removed]",
      "text/plain": [
       "<Figure size 432x288 with 1 Axes>"
      ]
     },
     "metadata": {
      "needs_background": "light"
     },
     "output_type": "display_data"
    }
   ],
   "source": [
    "generated_samples = generated_samples.detach()\n",
    "plt.plot(generated_samples[:, 0], generated_samples[:, 1], \".\")"
   ]
  },
  {
   "cell_type": "code",
   "execution_count": null,
   "id": "representative-ceiling",
   "metadata": {},
   "outputs": [],
   "source": []
  }
 ],
 "metadata": {
  "kernelspec": {
   "display_name": "Python 3",
   "language": "python",
   "name": "python3"
  },
  "language_info": {
   "codemirror_mode": {
    "name": "ipython",
    "version": 3
   },
   "file_extension": ".py",
   "mimetype": "text/x-python",
   "name": "python",
   "nbconvert_exporter": "python",
   "pygments_lexer": "ipython3",
   "version": "3.8.5"
  }
 },
 "nbformat": 4,
 "nbformat_minor": 5
}
