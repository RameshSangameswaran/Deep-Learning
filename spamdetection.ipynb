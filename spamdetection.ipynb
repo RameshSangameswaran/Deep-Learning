{
 "cells": [
  {
   "cell_type": "code",
   "execution_count": 3,
   "metadata": {},
   "outputs": [
    {
     "name": "stdout",
     "output_type": "stream",
     "text": [
      "['Screenshot from 2018-07-18 13-52-56.png', 'Screenshot from 2018-07-18 13-52-50.png', 'sms-spam-collection-dataset', 'time table03-08Indepentnew (1) - UPDATEDCopy.xlsx', 'IT_1357_Scheme_ver2 Odd Sem 22.06.19.docx', 'resyllabusofviisemcseitmachinelearningofcmrure', 'Screenshot from 2018-07-18 13-52-57.png', 'nakthras27.png', 'resyllabusofviisemcseitmachinelearningofcmrure.zip', 'Screenshot from 2018-07-18 13-52-58.png', 'dl lab2020.docx', 'VTU-ML-Lab-Manual-master', 'CS_1357_Scheme_ver2 Odd Sem 22.06.19.docx', 'time table03-08 (2) - EDITED.xlsx', 'sms-spam-collection-dataset.zip']\n"
     ]
    }
   ],
   "source": [
    "# This Python 3 environment comes with many helpful analytics libraries installed\n",
    "# It is defined by the kaggle/python docker image: https://github.com/kaggle/docker-python\n",
    "# For example, here's several helpful packages to load in \n",
    "\n",
    "import numpy as np # linear algebra\n",
    "import pandas as pd # data processing, CSV file I/O (e.g. pd.read_csv)\n",
    "import matplotlib.pyplot as plt\n",
    "\n",
    "# Input data files are available in the \"../input/\" directory.\n",
    "# For example, running this (by clicking run or pressing Shift+Enter) will list the files in the input directory\n",
    "\n",
    "# we need to fit model with sequence of tokens with specific length\n",
    "from keras.preprocessing.sequence import pad_sequences\n",
    "from keras.preprocessing.text import Tokenizer\n",
    "from keras.models import Sequential\n",
    "# normal LSTM/GRU and the Version with Cuda\n",
    "from keras.layers import Dense, Embedding, GRU, LSTM, Dropout, Bidirectional\n",
    "from keras.callbacks import TensorBoard, EarlyStopping, ModelCheckpoint\n",
    "from keras.optimizers import Adam, rmsprop\n",
    "\n",
    "# keras wrapper for k-fold cross-validation\n",
    "from keras.wrappers.scikit_learn import KerasClassifier\n",
    "# normsl cross validation\n",
    "from sklearn.model_selection import cross_val_score, train_test_split\n",
    "# cross validation for hyperparameter tuning\n",
    "from sklearn.model_selection import GridSearchCV\n",
    "\n",
    "import os\n",
    "print(os.listdir(\"/home/soetcse/Pictures\"))\n",
    "\n",
    "# Any results you write to the current directory are saved as output."
   ]
  },
  {
   "cell_type": "code",
   "execution_count": 4,
   "metadata": {},
   "outputs": [],
   "source": [
    "x_raw = []\n",
    "y_raw = []\n",
    "\n",
    "with open(\"/home/soetcse/Pictures/sms-spam-collection-dataset/spam.csv\", encoding = \"ISO-8859-1\") as f:\n",
    "    for line in f:\n",
    "        y_raw.append(line.split()[0])\n",
    "        x_raw.append(' '.join(i for i in line.split()[1:]))"
   ]
  },
  {
   "cell_type": "code",
   "execution_count": 5,
   "metadata": {},
   "outputs": [
    {
     "name": "stdout",
     "output_type": "stream",
     "text": [
      "909\n",
      "0\n",
      "60\n"
     ]
    }
   ],
   "source": [
    "y = [1 if i=='ham' else 0 for i in y_raw]\n",
    "\n",
    "print(max(len(s) for s in x_raw))\n",
    "print(min(len(s)for s in x_raw))\n",
    "sorted_X = sorted(len(s) for s in x_raw)\n",
    "print(sorted_X[len(sorted_X) // 2])"
   ]
  },
  {
   "cell_type": "code",
   "execution_count": 6,
   "metadata": {},
   "outputs": [
    {
     "name": "stdout",
     "output_type": "stream",
     "text": [
      "8734\n"
     ]
    }
   ],
   "source": [
    "tokenizer = Tokenizer()\n",
    "tokenizer.fit_on_texts(x_raw)\n",
    "sequences = tokenizer.texts_to_sequences(x_raw)\n",
    "\n",
    "vocab_size = len(tokenizer.word_index)+1\n",
    "print(vocab_size)"
   ]
  },
  {
   "cell_type": "code",
   "execution_count": 7,
   "metadata": {},
   "outputs": [
    {
     "data": {
      "text/plain": [
       "14"
      ]
     },
     "execution_count": 7,
     "metadata": {},
     "output_type": "execute_result"
    }
   ],
   "source": [
    "# divide sum of length of all sequences by number of all sequences to find averge length of each sequence\n",
    "sum([len(x) for x in sequences]) // len(sequences)"
   ]
  },
  {
   "cell_type": "code",
   "execution_count": 8,
   "metadata": {},
   "outputs": [],
   "source": [
    "pad = 'post' \n",
    "max_len = 25\n",
    "embedding_size = 100\n",
    "batch_size = 20\n",
    "sequences = pad_sequences(sequences, maxlen=max_len, padding=pad, truncating=pad)\n",
    "sequences.shape\n",
    "\n",
    "X_train, X_test, y_train, y_test = train_test_split(sequences, y, test_size = 0.2, random_state= 0)"
   ]
  },
  {
   "cell_type": "code",
   "execution_count": 9,
   "metadata": {},
   "outputs": [
    {
     "name": "stdout",
     "output_type": "stream",
     "text": [
      "WARNING:tensorflow:From /home/soetcse/anaconda3/envs/my_env/lib/python3.7/site-packages/keras/backend/tensorflow_backend.py:74: The name tf.get_default_graph is deprecated. Please use tf.compat.v1.get_default_graph instead.\n",
      "\n",
      "WARNING:tensorflow:From /home/soetcse/anaconda3/envs/my_env/lib/python3.7/site-packages/keras/backend/tensorflow_backend.py:517: The name tf.placeholder is deprecated. Please use tf.compat.v1.placeholder instead.\n",
      "\n",
      "WARNING:tensorflow:From /home/soetcse/anaconda3/envs/my_env/lib/python3.7/site-packages/keras/backend/tensorflow_backend.py:4138: The name tf.random_uniform is deprecated. Please use tf.random.uniform instead.\n",
      "\n",
      "WARNING:tensorflow:From /home/soetcse/anaconda3/envs/my_env/lib/python3.7/site-packages/keras/backend/tensorflow_backend.py:133: The name tf.placeholder_with_default is deprecated. Please use tf.compat.v1.placeholder_with_default instead.\n",
      "\n",
      "WARNING:tensorflow:From /home/soetcse/anaconda3/envs/my_env/lib/python3.7/site-packages/keras/backend/tensorflow_backend.py:3445: calling dropout (from tensorflow.python.ops.nn_ops) with keep_prob is deprecated and will be removed in a future version.\n",
      "Instructions for updating:\n",
      "Please use `rate` instead of `keep_prob`. Rate should be set to `rate = 1 - keep_prob`.\n",
      "WARNING:tensorflow:Large dropout rate: 0.8 (>0.5). In TensorFlow 2.x, dropout() uses dropout rate instead of keep_prob. Please ensure that this is intended.\n",
      "WARNING:tensorflow:Large dropout rate: 0.8 (>0.5). In TensorFlow 2.x, dropout() uses dropout rate instead of keep_prob. Please ensure that this is intended.\n",
      "_________________________________________________________________\n",
      "Layer (type)                 Output Shape              Param #   \n",
      "=================================================================\n",
      "embedding_1 (Embedding)      (None, 25, 100)           873400    \n",
      "_________________________________________________________________\n",
      "dropout_1 (Dropout)          (None, 25, 100)           0         \n",
      "_________________________________________________________________\n",
      "lstm_1 (LSTM)                (None, 140)               134960    \n",
      "_________________________________________________________________\n",
      "dropout_2 (Dropout)          (None, 140)               0         \n",
      "_________________________________________________________________\n",
      "Classification (Dense)       (None, 1)                 141       \n",
      "=================================================================\n",
      "Total params: 1,008,501\n",
      "Trainable params: 1,008,501\n",
      "Non-trainable params: 0\n",
      "_________________________________________________________________\n"
     ]
    }
   ],
   "source": [
    "model = Sequential()\n",
    "model.add(Embedding(input_dim=vocab_size, output_dim=embedding_size, input_length=max_len))\n",
    "model.add(Dropout(0.8))\n",
    "model.add(LSTM(140, return_sequences=False))\n",
    "model.add(Dropout(0.8))\n",
    "model.add(Dense(1, activation='sigmoid', name='Classification'))\n",
    "model.summary()"
   ]
  },
  {
   "cell_type": "code",
   "execution_count": 10,
   "metadata": {},
   "outputs": [
    {
     "name": "stdout",
     "output_type": "stream",
     "text": [
      "WARNING:tensorflow:From /home/soetcse/anaconda3/envs/my_env/lib/python3.7/site-packages/keras/optimizers.py:790: The name tf.train.Optimizer is deprecated. Please use tf.compat.v1.train.Optimizer instead.\n",
      "\n",
      "WARNING:tensorflow:From /home/soetcse/anaconda3/envs/my_env/lib/python3.7/site-packages/keras/backend/tensorflow_backend.py:3376: The name tf.log is deprecated. Please use tf.math.log instead.\n",
      "\n",
      "WARNING:tensorflow:From /home/soetcse/anaconda3/envs/my_env/lib/python3.7/site-packages/tensorflow/python/ops/nn_impl.py:180: add_dispatch_support.<locals>.wrapper (from tensorflow.python.ops.array_ops) is deprecated and will be removed in a future version.\n",
      "Instructions for updating:\n",
      "Use tf.where in 2.0, which has the same broadcast rule as np.where\n"
     ]
    }
   ],
   "source": [
    "model.compile(optimizer='adam', loss='binary_crossentropy', metrics=['accuracy'])\n",
    "#save_best = ModelCheckpoint('SpamDetection.hdf', save_best_only=True, monitor='val_acc', mode='max')\n",
    "# callback_early_stopping = EarlyStopping(monitor='val_loss', patience=5, verbose=1)"
   ]
  },
  {
   "cell_type": "code",
   "execution_count": 11,
   "metadata": {},
   "outputs": [
    {
     "name": "stdout",
     "output_type": "stream",
     "text": [
      "Train on 3568 samples, validate on 892 samples\n",
      "Epoch 1/10\n",
      "3568/3568 [==============================] - 7s 2ms/step - loss: 0.0397 - acc: 0.9922 - val_loss: 1.1808e-06 - val_acc: 1.0000\n",
      "Epoch 2/10\n",
      "3568/3568 [==============================] - 6s 2ms/step - loss: 3.0135e-05 - acc: 1.0000 - val_loss: 7.9454e-07 - val_acc: 1.0000\n",
      "Epoch 3/10\n",
      "3568/3568 [==============================] - 7s 2ms/step - loss: 2.8333e-05 - acc: 1.0000 - val_loss: 5.7446e-07 - val_acc: 1.0000\n",
      "Epoch 4/10\n",
      "3568/3568 [==============================] - 6s 2ms/step - loss: 2.2176e-05 - acc: 1.0000 - val_loss: 4.6661e-07 - val_acc: 1.0000\n",
      "Epoch 5/10\n",
      "3568/3568 [==============================] - 6s 2ms/step - loss: 2.3207e-05 - acc: 1.0000 - val_loss: 3.4059e-07 - val_acc: 1.0000\n",
      "Epoch 6/10\n",
      "3568/3568 [==============================] - 6s 2ms/step - loss: 1.4752e-05 - acc: 1.0000 - val_loss: 2.7651e-07 - val_acc: 1.0000\n",
      "Epoch 7/10\n",
      "3568/3568 [==============================] - 6s 2ms/step - loss: 1.3825e-05 - acc: 1.0000 - val_loss: 2.3237e-07 - val_acc: 1.0000\n",
      "Epoch 8/10\n",
      "3568/3568 [==============================] - 7s 2ms/step - loss: 1.0096e-05 - acc: 1.0000 - val_loss: 1.8596e-07 - val_acc: 1.0000\n",
      "Epoch 9/10\n",
      "3568/3568 [==============================] - 6s 2ms/step - loss: 8.3140e-06 - acc: 1.0000 - val_loss: 1.5116e-07 - val_acc: 1.0000\n",
      "Epoch 10/10\n",
      "3568/3568 [==============================] - 7s 2ms/step - loss: 7.3060e-06 - acc: 1.0000 - val_loss: 1.3290e-07 - val_acc: 1.0000\n"
     ]
    }
   ],
   "source": [
    "# Uses Automatic Verification Datasets (fastest option)\n",
    "# model.fit(X_train, y_train, epochs=n_epochs, batch_size=batch_size, validation_split=0.1, callbacks=[callback_early_stopping])\n",
    "n_epochs = 10\n",
    "results = model.fit(X_train, y_train, epochs=n_epochs, batch_size=batch_size, validation_split=0.2, verbose=1)"
   ]
  },
  {
   "cell_type": "code",
   "execution_count": 12,
   "metadata": {},
   "outputs": [
    {
     "name": "stdout",
     "output_type": "stream",
     "text": [
      "1115/1115 [==============================] - 0s 227us/step\n",
      "1.3387768510129707e-07 1.0\n"
     ]
    }
   ],
   "source": [
    "# model.load_weights(filepath='SpamDetection.hdf')\n",
    "eval_ = model.evaluate(X_test, y_test)\n",
    "print(eval_[0], eval_[1]) # loss / accuracy"
   ]
  },
  {
   "cell_type": "code",
   "execution_count": 13,
   "metadata": {},
   "outputs": [
    {
     "data": {
      "image/png": "[encoded data removed]",
      "text/plain": [
       "<Figure size 864x360 with 2 Axes>"
      ]
     },
     "metadata": {
      "needs_background": "light"
     },
     "output_type": "display_data"
    }
   ],
   "source": [
    "def plot_model(result):\n",
    "    acc = result.history['acc']\n",
    "    val_acc = result.history['val_acc']\n",
    "    loss = result.history['loss']\n",
    "    val_loss = result.history['val_loss']\n",
    "    x = range(1, len(acc)+1)\n",
    "    \n",
    "    plt.figure(figsize=(12, 5))\n",
    "    plt.subplot(1,2,1)\n",
    "    plt.plot(x, acc, 'b', label='Training acc')\n",
    "    plt.plot(x, val_acc, 'r', label= 'Validation acc')\n",
    "    plt.legend()\n",
    "    \n",
    "    plt.subplot(1,2,2)\n",
    "    plt.plot(x, loss, 'b', label='Training loss')\n",
    "    plt.plot(x, val_loss, 'r', label='validation loss')\n",
    "    plt.legend()\n",
    "    \n",
    "plot_model(results)"
   ]
  },
  {
   "cell_type": "code",
   "execution_count": 14,
   "metadata": {},
   "outputs": [
    {
     "name": "stdout",
     "output_type": "stream",
     "text": [
      "WARNING:tensorflow:Large dropout rate: 0.8 (>0.5). In TensorFlow 2.x, dropout() uses dropout rate instead of keep_prob. Please ensure that this is intended.\n",
      "WARNING:tensorflow:Large dropout rate: 0.86 (>0.5). In TensorFlow 2.x, dropout() uses dropout rate instead of keep_prob. Please ensure that this is intended.\n",
      "_________________________________________________________________\n",
      "Layer (type)                 Output Shape              Param #   \n",
      "=================================================================\n",
      "embedding_2 (Embedding)      (None, 25, 100)           873400    \n",
      "_________________________________________________________________\n",
      "dropout_3 (Dropout)          (None, 25, 100)           0         \n",
      "_________________________________________________________________\n",
      "gru_1 (GRU)                  (None, 140)               101220    \n",
      "_________________________________________________________________\n",
      "dropout_4 (Dropout)          (None, 140)               0         \n",
      "_________________________________________________________________\n",
      "Classification (Dense)       (None, 1)                 141       \n",
      "=================================================================\n",
      "Total params: 974,761\n",
      "Trainable params: 974,761\n",
      "Non-trainable params: 0\n",
      "_________________________________________________________________\n",
      "Train on 3568 samples, validate on 892 samples\n",
      "Epoch 1/10\n",
      "3568/3568 [==============================] - 7s 2ms/step - loss: 0.0536 - acc: 0.9896 - val_loss: 4.5171e-07 - val_acc: 1.0000\n",
      "Epoch 2/10\n",
      "3568/3568 [==============================] - 6s 2ms/step - loss: 7.1639e-05 - acc: 1.0000 - val_loss: 2.7337e-07 - val_acc: 1.0000\n",
      "Epoch 3/10\n",
      "3568/3568 [==============================] - 6s 2ms/step - loss: 4.7232e-05 - acc: 1.0000 - val_loss: 1.9970e-07 - val_acc: 1.0000\n",
      "Epoch 4/10\n",
      "3568/3568 [==============================] - 6s 2ms/step - loss: 7.7292e-05 - acc: 1.0000 - val_loss: 1.5144e-07 - val_acc: 1.0000\n",
      "Epoch 5/10\n",
      "3568/3568 [==============================] - 6s 2ms/step - loss: 3.1078e-05 - acc: 1.0000 - val_loss: 1.2645e-07 - val_acc: 1.0000\n",
      "Epoch 6/10\n",
      "3568/3568 [==============================] - 6s 2ms/step - loss: 2.3244e-05 - acc: 1.0000 - val_loss: 1.0911e-07 - val_acc: 1.0000\n",
      "Epoch 7/10\n",
      "3568/3568 [==============================] - 6s 2ms/step - loss: 4.9208e-05 - acc: 1.0000 - val_loss: 1.0312e-07 - val_acc: 1.0000\n",
      "Epoch 8/10\n",
      "3568/3568 [==============================] - 6s 2ms/step - loss: 1.7837e-05 - acc: 1.0000 - val_loss: 1.0450e-07 - val_acc: 1.0000\n",
      "Epoch 9/10\n",
      "3568/3568 [==============================] - 6s 2ms/step - loss: 1.1971e-05 - acc: 1.0000 - val_loss: 1.0182e-07 - val_acc: 1.0000\n",
      "Epoch 10/10\n",
      "3568/3568 [==============================] - 6s 2ms/step - loss: 1.1756e-05 - acc: 1.0000 - val_loss: 1.0327e-07 - val_acc: 1.0000\n",
      "1115/1115 [==============================] - 0s 152us/step\n",
      "1.033113550144434e-07 1.0\n"
     ]
    },
    {
     "data": {
      "image/png": "[encoded data removed]",
      "text/plain": [
       "<Figure size 864x360 with 2 Axes>"
      ]
     },
     "metadata": {
      "needs_background": "light"
     },
     "output_type": "display_data"
    }
   ],
   "source": [
    "model1 = Sequential()\n",
    "model1.add(Embedding(input_dim=vocab_size, output_dim=embedding_size, input_length=max_len))\n",
    "model1.add(Dropout(0.8))\n",
    "model1.add(GRU(140, return_sequences=False))\n",
    "model1.add(Dropout(0.86))\n",
    "model1.add(Dense(1, activation='sigmoid', name='Classification'))\n",
    "model1.summary()\n",
    "\n",
    "model1.compile(optimizer='adam', loss='binary_crossentropy', metrics=['accuracy'])\n",
    "results1 = model1.fit(X_train, y_train, epochs=n_epochs, batch_size=batch_size, validation_split=0.2)\n",
    "\n",
    "eval_ = model1.evaluate(X_test, y_test)\n",
    "print(eval_[0], eval_[1]) # loss / accuracy\n",
    "\n",
    "plot_model(results1)"
   ]
  },
  {
   "cell_type": "code",
   "execution_count": 15,
   "metadata": {},
   "outputs": [
    {
     "name": "stdout",
     "output_type": "stream",
     "text": [
      "WARNING:tensorflow:Large dropout rate: 0.8 (>0.5). In TensorFlow 2.x, dropout() uses dropout rate instead of keep_prob. Please ensure that this is intended.\n",
      "_________________________________________________________________\n",
      "Layer (type)                 Output Shape              Param #   \n",
      "=================================================================\n",
      "embedding_3 (Embedding)      (None, 25, 100)           873400    \n",
      "_________________________________________________________________\n",
      "dropout_5 (Dropout)          (None, 25, 100)           0         \n",
      "_________________________________________________________________\n",
      "bidirectional_1 (Bidirection (None, 280)               269920    \n",
      "_________________________________________________________________\n",
      "dropout_6 (Dropout)          (None, 280)               0         \n",
      "_________________________________________________________________\n",
      "Classification (Dense)       (None, 1)                 281       \n",
      "=================================================================\n",
      "Total params: 1,143,601\n",
      "Trainable params: 1,143,601\n",
      "Non-trainable params: 0\n",
      "_________________________________________________________________\n",
      "Train on 3568 samples, validate on 892 samples\n",
      "Epoch 1/10\n",
      "3568/3568 [==============================] - 12s 3ms/step - loss: 0.0346 - acc: 0.9969 - val_loss: 1.0083e-07 - val_acc: 1.0000\n",
      "Epoch 2/10\n",
      "3568/3568 [==============================] - 10s 3ms/step - loss: 5.6214e-07 - acc: 1.0000 - val_loss: 1.0026e-07 - val_acc: 1.0000\n",
      "Epoch 3/10\n",
      "3568/3568 [==============================] - 10s 3ms/step - loss: 4.6834e-07 - acc: 1.0000 - val_loss: 1.0000e-07 - val_acc: 1.0000\n",
      "Epoch 4/10\n",
      "3568/3568 [==============================] - 10s 3ms/step - loss: 4.5617e-07 - acc: 1.0000 - val_loss: 1.0000e-07 - val_acc: 1.0000\n",
      "Epoch 5/10\n",
      "3568/3568 [==============================] - 10s 3ms/step - loss: 4.3396e-07 - acc: 1.0000 - val_loss: 1.0000e-07 - val_acc: 1.0000\n",
      "Epoch 6/10\n",
      "3568/3568 [==============================] - 10s 3ms/step - loss: 5.2666e-07 - acc: 1.0000 - val_loss: 1.0000e-07 - val_acc: 1.0000\n",
      "Epoch 7/10\n",
      "3568/3568 [==============================] - 10s 3ms/step - loss: 2.7769e-07 - acc: 1.0000 - val_loss: 1.0000e-07 - val_acc: 1.0000\n",
      "Epoch 8/10\n",
      "3568/3568 [==============================] - 10s 3ms/step - loss: 2.7654e-07 - acc: 1.0000 - val_loss: 1.0000e-07 - val_acc: 1.0000\n",
      "Epoch 9/10\n",
      "3568/3568 [==============================] - 10s 3ms/step - loss: 2.5208e-07 - acc: 1.0000 - val_loss: 1.0000e-07 - val_acc: 1.0000\n",
      "Epoch 10/10\n",
      "3568/3568 [==============================] - 10s 3ms/step - loss: 2.5728e-07 - acc: 1.0000 - val_loss: 1.0000e-07 - val_acc: 1.0000\n",
      "1115/1115 [==============================] - 0s 263us/step\n",
      "1.0000001537946446e-07 1.0\n"
     ]
    },
    {
     "data": {
      "image/png": "[encoded data removed]",
      "text/plain": [
       "<Figure size 864x360 with 2 Axes>"
      ]
     },
     "metadata": {
      "needs_background": "light"
     },
     "output_type": "display_data"
    }
   ],
   "source": [
    "model2 = Sequential()\n",
    "model2.add(Embedding(input_dim=vocab_size, output_dim=embedding_size, input_length=max_len))\n",
    "model2.add(Dropout(0.8))\n",
    "model2.add(Bidirectional(LSTM(140, return_sequences=False)))\n",
    "model2.add(Dropout(0.8))\n",
    "model2.add(Dense(1, activation='sigmoid', name='Classification'))\n",
    "model2.summary()\n",
    "\n",
    "model2.compile(optimizer='adam', loss='binary_crossentropy', metrics=['accuracy'])\n",
    "\n",
    "results2 = model2.fit(X_train, y_train, epochs=n_epochs, batch_size=batch_size, validation_split=0.2)\n",
    "\n",
    "eval_ = model2.evaluate(X_test, y_test)\n",
    "print(eval_[0], eval_[1]) # loss / accuracy\n",
    "\n",
    "plot_model(results2)"
   ]
  },
  {
   "cell_type": "code",
   "execution_count": 16,
   "metadata": {},
   "outputs": [
    {
     "name": "stdout",
     "output_type": "stream",
     "text": [
      "WARNING:tensorflow:From /home/soetcse/anaconda3/envs/my_env/lib/python3.7/site-packages/keras/backend/tensorflow_backend.py:3976: The name tf.nn.max_pool is deprecated. Please use tf.nn.max_pool2d instead.\n",
      "\n",
      "_________________________________________________________________\n",
      "Layer (type)                 Output Shape              Param #   \n",
      "=================================================================\n",
      "embedding_4 (Embedding)      (None, 25, 100)           873400    \n",
      "_________________________________________________________________\n",
      "conv1d_1 (Conv1D)            (None, 23, 128)           38528     \n",
      "_________________________________________________________________\n",
      "max_pooling1d_1 (MaxPooling1 (None, 7, 128)            0         \n",
      "_________________________________________________________________\n",
      "dropout_7 (Dropout)          (None, 7, 128)            0         \n",
      "_________________________________________________________________\n",
      "conv1d_2 (Conv1D)            (None, 5, 128)            49280     \n",
      "_________________________________________________________________\n",
      "global_max_pooling1d_1 (Glob (None, 128)               0         \n",
      "_________________________________________________________________\n",
      "dropout_8 (Dropout)          (None, 128)               0         \n",
      "_________________________________________________________________\n",
      "dense_1 (Dense)              (None, 64)                8256      \n",
      "_________________________________________________________________\n",
      "dropout_9 (Dropout)          (None, 64)                0         \n",
      "_________________________________________________________________\n",
      "dense_2 (Dense)              (None, 32)                2080      \n",
      "_________________________________________________________________\n",
      "dropout_10 (Dropout)         (None, 32)                0         \n",
      "=================================================================\n",
      "Total params: 971,544\n",
      "Trainable params: 971,544\n",
      "Non-trainable params: 0\n",
      "_________________________________________________________________\n",
      "Train on 3568 samples, validate on 892 samples\n",
      "Epoch 1/10\n",
      "3568/3568 [==============================] - 5s 1ms/step - loss: 0.0428 - acc: 0.9972 - val_loss: 1.3759e-06 - val_acc: 1.0000\n",
      "Epoch 2/10\n",
      "3568/3568 [==============================] - 4s 988us/step - loss: 1.5526e-05 - acc: 1.0000 - val_loss: 6.2046e-07 - val_acc: 1.0000\n",
      "Epoch 3/10\n",
      "3568/3568 [==============================] - 4s 1ms/step - loss: 1.2364e-05 - acc: 1.0000 - val_loss: 3.0411e-07 - val_acc: 1.0000\n",
      "Epoch 4/10\n",
      "3568/3568 [==============================] - 4s 1ms/step - loss: 1.2729e-05 - acc: 1.0000 - val_loss: 1.5312e-07 - val_acc: 1.0000\n",
      "Epoch 5/10\n",
      "3568/3568 [==============================] - 4s 996us/step - loss: 2.2205e-05 - acc: 1.0000 - val_loss: 1.1051e-07 - val_acc: 1.0000\n",
      "Epoch 6/10\n",
      "3568/3568 [==============================] - 4s 991us/step - loss: 1.8245e-06 - acc: 1.0000 - val_loss: 1.0292e-07 - val_acc: 1.0000\n",
      "Epoch 7/10\n",
      "3568/3568 [==============================] - 4s 987us/step - loss: 2.3865e-06 - acc: 1.0000 - val_loss: 1.0145e-07 - val_acc: 1.0000\n",
      "Epoch 8/10\n",
      "3568/3568 [==============================] - 4s 1ms/step - loss: 3.0841e-07 - acc: 1.0000 - val_loss: 1.0119e-07 - val_acc: 1.0000\n",
      "Epoch 9/10\n",
      "3568/3568 [==============================] - 4s 990us/step - loss: 6.2833e-07 - acc: 1.0000 - val_loss: 1.0080e-07 - val_acc: 1.0000\n",
      "Epoch 10/10\n",
      "3568/3568 [==============================] - 3s 977us/step - loss: 2.9478e-07 - acc: 1.0000 - val_loss: 1.0097e-07 - val_acc: 1.0000\n",
      "1115/1115 [==============================] - 0s 59us/step\n",
      "1.0008792844244233e-07 1.0\n"
     ]
    },
    {
     "data": {
      "image/png": "[encoded data removed]",
      "text/plain": [
       "<Figure size 864x360 with 2 Axes>"
      ]
     },
     "metadata": {
      "needs_background": "light"
     },
     "output_type": "display_data"
    }
   ],
   "source": [
    "from keras.layers import Conv1D, MaxPool1D, GlobalMaxPooling1D, GlobalAveragePooling1D\n",
    "\n",
    "n_epochs = 10\n",
    "model3 = Sequential()\n",
    "model3.add(Embedding(input_dim=vocab_size, output_dim=embedding_size, input_length=max_len))\n",
    "model3.add(Conv1D(128, 3, activation='relu'))\n",
    "model3.add(MaxPool1D(3))\n",
    "model3.add(Dropout(0.2))\n",
    "model3.add(Conv1D(128, 3, activation='relu'))\n",
    "model3.add(GlobalMaxPooling1D())\n",
    "model3.add(Dropout(0.2))\n",
    "model3.add(Dense(64, activation='relu'))\n",
    "model3.add(Dropout(0.2))\n",
    "model3.add(Dense(32, activation='relu'))\n",
    "model3.add(Dropout(0.2))\n",
    "model3.summary()\n",
    "model3.add(Dense(1, activation='sigmoid'))\n",
    "\n",
    "\n",
    "model3.compile(loss='binary_crossentropy', optimizer=\"adam\", metrics=['accuracy'])\n",
    "result3 = model3.fit(X_train, y_train, batch_size = batch_size, epochs=n_epochs, validation_split=0.2, verbose=1)\n",
    "eval_ = model3.evaluate(X_test, y_test)\n",
    "print(eval_[0], eval_[1]) # loss / accuracy\n",
    "\n",
    "plot_model(result3)\n"
   ]
  },
  {
   "cell_type": "code",
   "execution_count": 24,
   "metadata": {},
   "outputs": [
    {
     "name": "stdout",
     "output_type": "stream",
     "text": [
      "400000\n",
      "_________________________________________________________________\n",
      "Layer (type)                 Output Shape              Param #   \n",
      "=================================================================\n",
      "embedding_5 (Embedding)      (None, 25, 100)           873400    \n",
      "_________________________________________________________________\n",
      "conv1d_3 (Conv1D)            (None, 23, 128)           38528     \n",
      "_________________________________________________________________\n",
      "max_pooling1d_2 (MaxPooling1 (None, 7, 128)            0         \n",
      "_________________________________________________________________\n",
      "dropout_11 (Dropout)         (None, 7, 128)            0         \n",
      "_________________________________________________________________\n",
      "conv1d_4 (Conv1D)            (None, 5, 128)            49280     \n",
      "_________________________________________________________________\n",
      "global_max_pooling1d_2 (Glob (None, 128)               0         \n",
      "_________________________________________________________________\n",
      "dropout_12 (Dropout)         (None, 128)               0         \n",
      "_________________________________________________________________\n",
      "dense_4 (Dense)              (None, 64)                8256      \n",
      "_________________________________________________________________\n",
      "dropout_13 (Dropout)         (None, 64)                0         \n",
      "_________________________________________________________________\n",
      "dense_5 (Dense)              (None, 32)                2080      \n",
      "_________________________________________________________________\n",
      "dropout_14 (Dropout)         (None, 32)                0         \n",
      "_________________________________________________________________\n",
      "dense_6 (Dense)              (None, 16)                528       \n",
      "_________________________________________________________________\n",
      "dropout_15 (Dropout)         (None, 16)                0         \n",
      "=================================================================\n",
      "Total params: 972,072\n",
      "Trainable params: 972,072\n",
      "Non-trainable params: 0\n",
      "_________________________________________________________________\n",
      "Train on 3568 samples, validate on 892 samples\n",
      "Epoch 1/20\n",
      "3568/3568 [==============================] - 5s 1ms/step - loss: 0.0109 - acc: 0.9992 - val_loss: 4.4369e-05 - val_acc: 1.0000\n",
      "Epoch 2/20\n",
      "3568/3568 [==============================] - 4s 985us/step - loss: 8.8172e-05 - acc: 1.0000 - val_loss: 2.5533e-06 - val_acc: 1.0000\n",
      "Epoch 3/20\n",
      "3568/3568 [==============================] - 4s 999us/step - loss: 1.0143e-05 - acc: 1.0000 - val_loss: 1.0504e-06 - val_acc: 1.0000\n",
      "Epoch 4/20\n",
      "3568/3568 [==============================] - 4s 1000us/step - loss: 3.1388e-05 - acc: 1.0000 - val_loss: 2.1038e-07 - val_acc: 1.0000\n",
      "Epoch 5/20\n",
      "3568/3568 [==============================] - 3s 980us/step - loss: 5.2169e-05 - acc: 1.0000 - val_loss: 1.0365e-07 - val_acc: 1.0000\n",
      "Epoch 6/20\n",
      "3568/3568 [==============================] - 3s 978us/step - loss: 1.6283e-06 - acc: 1.0000 - val_loss: 1.0231e-07 - val_acc: 1.0000\n",
      "Epoch 7/20\n",
      "3568/3568 [==============================] - 3s 979us/step - loss: 3.5010e-05 - acc: 1.0000 - val_loss: 1.0000e-07 - val_acc: 1.0000\n",
      "Epoch 8/20\n",
      "3568/3568 [==============================] - 4s 1ms/step - loss: 1.2919e-05 - acc: 1.0000 - val_loss: 1.0000e-07 - val_acc: 1.0000\n",
      "Epoch 9/20\n",
      "3568/3568 [==============================] - 3s 978us/step - loss: 2.7821e-07 - acc: 1.0000 - val_loss: 1.0000e-07 - val_acc: 1.0000\n",
      "Epoch 10/20\n",
      "3568/3568 [==============================] - 3s 978us/step - loss: 1.1952e-07 - acc: 1.0000 - val_loss: 1.0000e-07 - val_acc: 1.0000\n",
      "Epoch 11/20\n",
      "3568/3568 [==============================] - 3s 977us/step - loss: 1.7427e-07 - acc: 1.0000 - val_loss: 1.0000e-07 - val_acc: 1.0000\n",
      "Epoch 12/20\n",
      "3568/3568 [==============================] - 4s 986us/step - loss: 1.6346e-07 - acc: 1.0000 - val_loss: 1.0000e-07 - val_acc: 1.0000\n",
      "Epoch 13/20\n",
      "3568/3568 [==============================] - 4s 1ms/step - loss: 1.5513e-07 - acc: 1.0000 - val_loss: 1.0000e-07 - val_acc: 1.0000\n",
      "Epoch 14/20\n",
      "3568/3568 [==============================] - 4s 1ms/step - loss: 5.8381e-07 - acc: 1.0000 - val_loss: 1.0000e-07 - val_acc: 1.0000\n",
      "Epoch 15/20\n",
      "3568/3568 [==============================] - 4s 983us/step - loss: 1.4284e-07 - acc: 1.0000 - val_loss: 1.0000e-07 - val_acc: 1.0000\n",
      "Epoch 16/20\n",
      "3568/3568 [==============================] - 4s 1ms/step - loss: 2.1148e-06 - acc: 1.0000 - val_loss: 1.0000e-07 - val_acc: 1.0000\n",
      "Epoch 17/20\n",
      "3568/3568 [==============================] - 4s 1ms/step - loss: 2.6549e-07 - acc: 1.0000 - val_loss: 1.0000e-07 - val_acc: 1.0000\n",
      "Epoch 18/20\n",
      "3568/3568 [==============================] - 4s 984us/step - loss: 1.5150e-07 - acc: 1.0000 - val_loss: 1.0000e-07 - val_acc: 1.0000\n",
      "Epoch 19/20\n",
      "3568/3568 [==============================] - 4s 1ms/step - loss: 1.2769e-07 - acc: 1.0000 - val_loss: 1.0000e-07 - val_acc: 1.0000\n",
      "Epoch 20/20\n",
      "3568/3568 [==============================] - 4s 1ms/step - loss: 3.7855e-07 - acc: 1.0000 - val_loss: 1.0000e-07 - val_acc: 1.0000\n",
      "1115/1115 [==============================] - 0s 75us/step\n",
      "1.0000001537946446e-07 1.0\n"
     ]
    },
    {
     "data": {
      "image/png": "[encoded data removed]",
      "text/plain": [
       "<Figure size 864x360 with 2 Axes>"
      ]
     },
     "metadata": {
      "needs_background": "light"
     },
     "output_type": "display_data"
    }
   ],
   "source": [
    " word2vec = {}\n",
    "f = open('/home/soetcse/Pictures/glove6b100dtxt/glove.6B.100d.txt', encoding=\"utf-8\")\n",
    " for line in f:\n",
    "    values = line.split()\n",
    "    word = values[0]\n",
    "    vec = np.asarray(values[1:], dtype='float32')\n",
    "    word2vec[word] = vec\n",
    "    \n",
    "print(len(word2vec))\n",
    "\n",
    " embedding_matrix = np.zeros((vocab_size, embedding_size))\n",
    "\n",
    "for word,i in  tokenizer.word_index.items():\n",
    "     if i < vocab_size:\n",
    "        embedding_vector = word2vec.get(word)\n",
    "        if embedding_vector is not None:\n",
    "          # words not in the glove will be set to zero   \n",
    "             embedding_matrix[i] = embedding_vector\n",
    "            \n",
    "\n",
    "n_epochs = 20\n",
    "model4 = Sequential()\n",
    "model4.add(Embedding(input_dim=vocab_size, output_dim=embedding_size,weights = [embedding_matrix], input_length=max_len, trainable=True))\n",
    "model4.add(Conv1D(128, 3, activation='relu'))\n",
    "model4.add(MaxPool1D(3))\n",
    "model4.add(Dropout(0.2))\n",
    "model4.add(Conv1D(128, 3, activation='relu'))\n",
    "model4.add(GlobalMaxPooling1D())\n",
    "model4.add(Dropout(0.2))\n",
    "model4.add(Dense(64, activation='relu'))\n",
    "model4.add(Dropout(0.2))\n",
    "model4.add(Dense(32, activation='relu'))\n",
    "model4.add(Dropout(0.2))\n",
    "model4.add(Dense(16, activation='relu'))\n",
    "model4.add(Dropout(0.2))\n",
    "model4.summary()\n",
    "model4.add(Dense(1, activation='sigmoid'))\n",
    "\n",
    "\n",
    "model4.compile(loss='binary_crossentropy', optimizer=\"adam\", metrics=['accuracy'])\n",
    "save_best = ModelCheckpoint('SMS.hdf', save_best_only=True, monitor='val_acc', mode='max')\n",
    " result4 = model4.fit(X_train, y_train, batch_size = batch_size, epochs=n_epochs, validation_split=0.2, verbose=1,  callbacks=[save_best])\n",
    "eval_ = model4.evaluate(X_test, y_test)\n",
    " print(eval_[0], eval_[1]) # loss / accuracy\n",
    "plot_model(result4)"
   ]
  },
  {
   "cell_type": "code",
   "execution_count": null,
   "metadata": {},
   "outputs": [],
   "source": []
  },
  {
   "cell_type": "code",
   "execution_count": null,
   "metadata": {},
   "outputs": [],
   "source": []
  }
 ],
 "metadata": {
  "kernelspec": {
   "display_name": "Python 3",
   "language": "python",
   "name": "python3"
  },
  "language_info": {
   "codemirror_mode": {
    "name": "ipython",
    "version": 3
   },
   "file_extension": ".py",
   "mimetype": "text/x-python",
   "name": "python",
   "nbconvert_exporter": "python",
   "pygments_lexer": "ipython3",
   "version": "3.7.4"
  }
 },
 "nbformat": 4,
 "nbformat_minor": 2
}
