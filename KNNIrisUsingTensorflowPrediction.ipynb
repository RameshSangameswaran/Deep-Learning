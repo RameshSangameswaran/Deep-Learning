{
 "cells": [
  {
   "cell_type": "code",
   "execution_count": 5,
   "id": "operational-advance",
   "metadata": {},
   "outputs": [
    {
     "name": "stdout",
     "output_type": "stream",
     "text": [
      "WARNING:tensorflow:From /home/soetcse/anaconda3/envs/DeepLearning_Env/lib/python3.8/site-packages/tensorflow/python/compat/v2_compat.py:96: disable_resource_variables (from tensorflow.python.ops.variable_scope) is deprecated and will be removed in a future version.\n",
      "Instructions for updating:\n",
      "non-resource variables are not supported in the long term\n"
     ]
    }
   ],
   "source": [
    "#import tensorflow as tf\n",
    "import tensorflow.compat.v1 as tf\n",
    "tf.disable_v2_behavior() \n",
    "import pandas as pd\n",
    "import numpy as np\n",
    "import time\n",
    "from sklearn.datasets import load_iris\n",
    "from sklearn.model_selection import train_test_split\n",
    "import matplotlib.pyplot as plt"
   ]
  },
  {
   "cell_type": "code",
   "execution_count": 6,
   "id": "similar-tomato",
   "metadata": {},
   "outputs": [],
   "source": [
    "iris = load_iris()\n",
    "iris_X, iris_y = iris.data[:-1,:], iris.target[:-1]\n",
    "iris_y= pd.get_dummies(iris_y).values\n",
    "Xtr, Xte, Ytr, Yte = train_test_split(iris_X, iris_y, test_size=0.33, random_state=42)"
   ]
  },
  {
   "cell_type": "code",
   "execution_count": 8,
   "id": "hindu-outline",
   "metadata": {},
   "outputs": [],
   "source": [
    "# tf Graph Input\n",
    "xtr = tf.placeholder(\"float\", [None, 4])\n",
    "#xtr = tf.placeholder(shape=[None, 2], dtype=tf.float32)\n",
    "xte = tf.placeholder(\"float\", [4])\n",
    "\n",
    "# Nearest Neighbor calculation using L1 Distance\n",
    "# Calculate L1 Distance\n",
    "distance = tf.reduce_sum(tf.abs(tf.add(xtr, tf.negative(xte))), reduction_indices=1)\n",
    "# Prediction: Get min distance index (Nearest neighbor)\n",
    "pred = tf.arg_min(distance, 0)"
   ]
  },
  {
   "cell_type": "code",
   "execution_count": 9,
   "id": "removed-indonesia",
   "metadata": {},
   "outputs": [],
   "source": [
    "accuracy = 0.\n",
    "\n",
    "# Initialize the variables (i.e. assign their default value)\n",
    "init = tf.global_variables_initializer()"
   ]
  },
  {
   "cell_type": "code",
   "execution_count": 10,
   "id": "cellular-motor",
   "metadata": {},
   "outputs": [
    {
     "name": "stdout",
     "output_type": "stream",
     "text": [
      "Test 0 Prediction: 1 True Class: 1\n",
      "Test 1 Prediction: 0 True Class: 0\n",
      "Test 2 Prediction: 2 True Class: 2\n",
      "Test 3 Prediction: 1 True Class: 1\n",
      "Test 4 Prediction: 1 True Class: 1\n",
      "Test 5 Prediction: 0 True Class: 0\n",
      "Test 6 Prediction: 1 True Class: 1\n",
      "Test 7 Prediction: 2 True Class: 2\n",
      "Test 8 Prediction: 1 True Class: 1\n",
      "Test 9 Prediction: 1 True Class: 1\n",
      "Test 10 Prediction: 2 True Class: 2\n",
      "Test 11 Prediction: 0 True Class: 0\n",
      "Test 12 Prediction: 0 True Class: 0\n",
      "Test 13 Prediction: 0 True Class: 0\n",
      "Test 14 Prediction: 0 True Class: 0\n",
      "Test 15 Prediction: 1 True Class: 1\n",
      "Test 16 Prediction: 2 True Class: 2\n",
      "Test 17 Prediction: 1 True Class: 1\n",
      "Test 18 Prediction: 1 True Class: 1\n",
      "Test 19 Prediction: 2 True Class: 2\n",
      "Test 20 Prediction: 0 True Class: 0\n",
      "Test 21 Prediction: 2 True Class: 2\n",
      "Test 22 Prediction: 0 True Class: 0\n",
      "Test 23 Prediction: 2 True Class: 2\n",
      "Test 24 Prediction: 2 True Class: 2\n",
      "Test 25 Prediction: 2 True Class: 2\n",
      "Test 26 Prediction: 2 True Class: 2\n",
      "Test 27 Prediction: 1 True Class: 2\n",
      "Test 28 Prediction: 0 True Class: 0\n",
      "Test 29 Prediction: 0 True Class: 0\n",
      "Test 30 Prediction: 0 True Class: 0\n",
      "Test 31 Prediction: 0 True Class: 0\n",
      "Test 32 Prediction: 1 True Class: 1\n",
      "Test 33 Prediction: 0 True Class: 0\n",
      "Test 34 Prediction: 0 True Class: 0\n",
      "Test 35 Prediction: 2 True Class: 2\n",
      "Test 36 Prediction: 1 True Class: 1\n",
      "Test 37 Prediction: 0 True Class: 0\n",
      "Test 38 Prediction: 0 True Class: 0\n",
      "Test 39 Prediction: 0 True Class: 0\n",
      "Test 40 Prediction: 2 True Class: 2\n",
      "Test 41 Prediction: 1 True Class: 1\n",
      "Test 42 Prediction: 1 True Class: 1\n",
      "Test 43 Prediction: 0 True Class: 0\n",
      "Test 44 Prediction: 0 True Class: 0\n",
      "Test 45 Prediction: 1 True Class: 1\n",
      "Test 46 Prediction: 2 True Class: 2\n",
      "Test 47 Prediction: 1 True Class: 2\n",
      "Test 48 Prediction: 1 True Class: 1\n",
      "Test 49 Prediction: 2 True Class: 2\n",
      "Accuracy :  0.9600000000000005\n"
     ]
    }
   ],
   "source": [
    "# Start training\n",
    "with tf.Session() as sess:\n",
    "\n",
    "    # Run the initializer\n",
    "    sess.run(init)\n",
    "\n",
    "    # loop over test data\n",
    "    for i in range(len(Xte)):\n",
    "        # Get nearest neighbor\n",
    "        nn_index = sess.run(pred, feed_dict={xtr: Xtr, xte: Xte[i, :]})\n",
    "        # Get nearest neighbor class label and compare it to its true label\n",
    "        print(\"Test\", i, \"Prediction:\", np.argmax(Ytr[nn_index]), \\\n",
    "            \"True Class:\", np.argmax(Yte[i]))\n",
    "        # Calculate accuracy\n",
    "        if np.argmax(Ytr[nn_index]) == np.argmax(Yte[i]):\n",
    "            accuracy += 1./len(Xte)\n",
    "    print(\"Accuracy : \",accuracy)"
   ]
  },
  {
   "cell_type": "code",
   "execution_count": null,
   "id": "touched-asbestos",
   "metadata": {},
   "outputs": [],
   "source": []
  }
 ],
 "metadata": {
  "kernelspec": {
   "display_name": "Python 3",
   "language": "python",
   "name": "python3"
  },
  "language_info": {
   "codemirror_mode": {
    "name": "ipython",
    "version": 3
   },
   "file_extension": ".py",
   "mimetype": "text/x-python",
   "name": "python",
   "nbconvert_exporter": "python",
   "pygments_lexer": "ipython3",
   "version": "3.8.5"
  }
 },
 "nbformat": 4,
 "nbformat_minor": 5
}
